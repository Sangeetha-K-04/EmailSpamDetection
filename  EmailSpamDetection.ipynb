{
 "cells": [
  {
   "cell_type": "code",
   "execution_count": null,
   "id": "cb5ce05d-7e4d-4993-809f-024add313f6c",
   "metadata": {},
   "outputs": [
    {
     "name": "stdout",
     "output_type": "stream",
     "text": [
      "Training Accuracy: 0.9928202827013687\n",
      "Test Accuracy: 0.968609865470852\n"
     ]
    },
    {
     "name": "stdin",
     "output_type": "stream",
     "text": [
      "\n",
      "Enter your email message (or type 'exit' to quit):  SIX chances to win CASH! From 100 to 20,000 pounds txt> CSH11 and send to 87575. Cost 150p/day, 6days, 16+ TsandCs apply Reply HL 4 info\n"
     ]
    },
    {
     "name": "stdout",
     "output_type": "stream",
     "text": [
      "\n",
      "Prediction Result:\n",
      "Confidence: 0.0263\n",
      "🚨 Spam mail\n",
      "\n",
      "Options for Spam Handling:\n",
      "1. Report Spam\n",
      "2. Block Sender\n",
      "3. Delete Message\n"
     ]
    },
    {
     "name": "stdin",
     "output_type": "stream",
     "text": [
      "Choose an option (1-3):  2\n"
     ]
    },
    {
     "name": "stdout",
     "output_type": "stream",
     "text": [
      "🚫 Sender 'Unknown Sender' has been blocked.\n"
     ]
    },
    {
     "name": "stdin",
     "output_type": "stream",
     "text": [
      "\n",
      "Enter your email message (or type 'exit' to quit):  I'm gonna be home soon\n"
     ]
    },
    {
     "name": "stdout",
     "output_type": "stream",
     "text": [
      "\n",
      "Prediction Result:\n",
      "Confidence: 0.9639\n",
      "✅ Ham mail\n"
     ]
    }
   ],
   "source": [
    "import pandas as pd\n",
    "import numpy as np\n",
    "from sklearn.model_selection import train_test_split\n",
    "from sklearn.feature_extraction.text import TfidfVectorizer\n",
    "from sklearn.linear_model import LogisticRegression\n",
    "from sklearn.metrics import accuracy_score\n",
    "\n",
    "df = pd.read_csv(\"C:/Users/Sangee/Desktop/mail_data.csv\")\n",
    "data = df.where((pd.notnull(df)), '')\n",
    "data['category'] = data['Category'].apply(lambda x: 1 if x == 'ham' else 0)\n",
    "data = data.drop(columns=['Category'])\n",
    "\n",
    "X = data['Message']\n",
    "y = data['category']\n",
    "X_train, X_test, y_train, y_test = train_test_split(X, y, test_size=0.2, random_state=42, stratify=y)\n",
    "\n",
    "feature_extraction = TfidfVectorizer(min_df=1, stop_words='english', lowercase=True)\n",
    "X_train_feature = feature_extraction.fit_transform(X_train)\n",
    "X_test_feature = feature_extraction.transform(X_test)\n",
    "\n",
    "y_train = y_train.astype('int')\n",
    "y_test = y_test.astype('int')\n",
    "\n",
    "model = LogisticRegression(class_weight='balanced')\n",
    "model.fit(X_train_feature, y_train)\n",
    "\n",
    "print(\"Training Accuracy:\", accuracy_score(y_train, model.predict(X_train_feature)))\n",
    "print(\"Test Accuracy:\", accuracy_score(y_test, model.predict(X_test_feature)))\n",
    "\n",
    "spam_reports = []\n",
    "blocked_senders = set()\n",
    "messages = list(X_test)\n",
    "\n",
    "def handle_spam(message):\n",
    "    print(\"\\nOptions for Spam Handling:\")\n",
    "    print(\"1. Report Spam\")\n",
    "    print(\"2. Block Sender\")\n",
    "    print(\"3. Delete Message\")\n",
    "\n",
    "    choice = input(\"Choose an option (1-3): \")\n",
    "\n",
    "    if choice == '1':\n",
    "        spam_reports.append(message)\n",
    "        print(\"✅ Message reported as spam.\")\n",
    "\n",
    "    elif choice == '2':\n",
    "        sender = \"Unknown Sender\"\n",
    "        blocked_senders.add(sender)\n",
    "        print(f\"🚫 Sender '{sender}' has been blocked.\")\n",
    "\n",
    "    elif choice == '3':\n",
    "        if message in messages:\n",
    "            messages.remove(message)\n",
    "            print(\"🗑 Message deleted.\")\n",
    "        else:\n",
    "            print(\"⚠ Message not found.\")\n",
    "\n",
    "while True:\n",
    "    user_mail = input(\"\\nEnter your email message (or type 'exit' to quit): \")\n",
    "    if user_mail.strip().lower() == 'exit':\n",
    "        break\n",
    "\n",
    "    input_data_features = feature_extraction.transform([user_mail])\n",
    "    prediction = model.predict(input_data_features)\n",
    "    prediction_prob = model.predict_proba(input_data_features)[:,1]  # Get probability of being ham\n",
    "\n",
    "    print(\"\\nPrediction Result:\")\n",
    "    print(f\"Confidence: {prediction_prob[0]:.4f}\")\n",
    "    if prediction[0] == 1:\n",
    "        print(\"✅ Ham mail\")\n",
    "    else:\n",
    "        print(\"🚨 Spam mail\")\n",
    "        handle_spam(user_mail)\n",
    "\n",
    "print(\"\\nBlocked Senders:\", blocked_senders)\n",
    "print(\"Spam Reports:\", spam_reports)"
   ]
  },
  {
   "cell_type": "code",
   "execution_count": null,
   "id": "8e378114-0d60-4c53-9a3a-441c34c38018",
   "metadata": {},
   "outputs": [],
   "source": []
  }
 ],
 "metadata": {
  "kernelspec": {
   "display_name": "Python 3 (ipykernel)",
   "language": "python",
   "name": "python3"
  },
  "language_info": {
   "codemirror_mode": {
    "name": "ipython",
    "version": 3
   },
   "file_extension": ".py",
   "mimetype": "text/x-python",
   "name": "python",
   "nbconvert_exporter": "python",
   "pygments_lexer": "ipython3",
   "version": "3.13.1"
  }
 },
 "nbformat": 4,
 "nbformat_minor": 5
}
